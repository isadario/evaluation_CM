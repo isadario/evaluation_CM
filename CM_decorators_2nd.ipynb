{
 "cells": [
  {
   "cell_type": "markdown",
   "metadata": {},
   "source": [
    "# Confusion matrix decorators"
   ]
  },
  {
   "cell_type": "markdown",
   "metadata": {},
   "source": [
    "Confusion matrix with a number of graphical decorators (introduced as \"Confusion Matrix Chart\" in https://towardsdatascience.com/the-confusion-matrix-visualized-e778584c8834 by Søren Laursen https://www.linkedin.com/in/soren02laursen/)"
   ]
  },
  {
   "cell_type": "markdown",
   "metadata": {},
   "source": [
    "The concept is from the article, the code is mainly from the article but with several modifications "
   ]
  },
  {
   "cell_type": "markdown",
   "metadata": {},
   "source": [
    "## Imports"
   ]
  },
  {
   "cell_type": "code",
   "execution_count": 1,
   "metadata": {
    "ExecuteTime": {
     "end_time": "2020-04-21T13:23:33.322115Z",
     "start_time": "2020-04-21T13:23:32.072357Z"
    }
   },
   "outputs": [],
   "source": [
    "import pandas as pd\n",
    "import numpy as np\n",
    "import altair as alt #documentation for altair:  https://altair-viz.github.io/"
   ]
  },
  {
   "cell_type": "markdown",
   "metadata": {},
   "source": [
    "## Odss Ratio calculations"
   ]
  },
  {
   "cell_type": "markdown",
   "metadata": {},
   "source": [
    "First here I define the functions to get the ratios "
   ]
  },
  {
   "cell_type": "code",
   "execution_count": 2,
   "metadata": {
    "ExecuteTime": {
     "end_time": "2020-04-21T13:23:33.338722Z",
     "start_time": "2020-04-21T13:23:33.325117Z"
    }
   },
   "outputs": [],
   "source": [
    "#DIAGNOSTIC ODDS RATIO = ratio of the odds of the classification being positive if the subject is actually positive\n",
    "#relative to the odds of the classification being positive if the subject is not actually positive \n",
    "\n",
    "#a = TP,Yy\n",
    "#b = FN, Yn\n",
    "#c = FP, Ny\n",
    "#d = TN, Nn\n",
    "\n",
    "\n",
    "#define the dictionary with the alpha values for the confidence interval\n",
    "alpha_value_dict = {70:1.04, 75:1.15, 80:1.28, 85:1.44, 90:1.64 , 95:1.96 , 98:2.33 , 99:2.58}\n",
    "\n",
    "\n",
    "def odds_ratio(TP, FN, FP, TN):\n",
    "    if TP==0 or np.isnan(TP) or FN==0 or np.isnan(FN) or FP==0 or np.isnan(FP) or TN==0 or np.isnan(TN):\n",
    "        TP = 0.5 if np.isnan(TP) else TP + 0.5\n",
    "        FN = 0.5 if np.isnan(FN) else FN + 0.5\n",
    "        FP = 0.5 if np.isnan(FP) else FP + 0.5\n",
    "        TN = 0.5 if np.isnan(TN) else TN + 0.5\n",
    "\n",
    "    return (TP*TN)/(FP*FN) #odds ratio is (TP*TN)/(FN*FP)\n",
    "\n",
    "\n",
    "\n",
    "def odds_ratio_lower_ci(OR, TP, FN, FP, TN, confidence_level):\n",
    "    if TP==0 or np.isnan(TP) or FN==0 or np.isnan(FN) or FP==0 or np.isnan(FP) or TN==0 or np.isnan(TN):\n",
    "        TP = 0.5 if np.isnan(TP) else TP + 0.5\n",
    "        FN = 0.5 if np.isnan(FN) else FN + 0.5\n",
    "        FP = 0.5 if np.isnan(FP) else FP + 0.5\n",
    "        TN = 0.5 if np.isnan(TN) else TN + 0.5\n",
    "\n",
    "    return np.exp(np.log(OR) - alpha_value_dict[confidence_level]*np.sqrt(1/TP + 1/FN + 1/FP + 1/TN))\n",
    "\n",
    "\n",
    "def odds_ratio_upper_ci(OR, TP, FN, FP, TN, confidence_level):\n",
    "    if TP==0 or np.isnan(TP) or FN==0 or np.isnan(FN) or FP==0 or np.isnan(FP) or TN==0 or np.isnan(TN):\n",
    "        TP = 0.5 if np.isnan(TP) else TP + 0.5\n",
    "        FN = 0.5 if np.isnan(FN) else FN + 0.5\n",
    "        FP = 0.5 if np.isnan(FP) else FP + 0.5\n",
    "        TN = 0.5 if np.isnan(TN) else TN + 0.5\n",
    "\n",
    "    return np.exp(np.log(OR) + alpha_value_dict[confidence_level]*np.sqrt(1/TP + 1/FN + 1/FP + 1/TN))\n",
    "\n",
    "\n",
    "#INTERPRETATION OF DOR\n",
    "#The diagnostic odds ratio ranges from zero to infinity, although for useful tests it is greater than one, \n",
    "#and higher diagnostic odds ratios are indicative of better test performance.\n",
    "\n",
    "#Diagnostic odds ratios less than one indicate that the test can be improved by simply inverting the outcome \n",
    "#of the test – the test is in the wrong direction, \n",
    "\n",
    "#while a diagnostic odds ratio of exactly one means that the test is equally likely to predict a positive \n",
    "#outcome whatever the true condition – the test gives no information.\n"
   ]
  },
  {
   "cell_type": "markdown",
   "metadata": {},
   "source": [
    "## Derive confusion matrix data"
   ]
  },
  {
   "cell_type": "markdown",
   "metadata": {},
   "source": [
    "Then here I create the dataframe with all the relevant information to then build the visualization"
   ]
  },
  {
   "cell_type": "code",
   "execution_count": 6,
   "metadata": {
    "ExecuteTime": {
     "end_time": "2020-04-21T13:23:33.394817Z",
     "start_time": "2020-04-21T13:23:33.341597Z"
    }
   },
   "outputs": [],
   "source": [
    "def confusion_matrix_data(Yy, Yn, Ny, Nn):\n",
    "    CM = pd.DataFrame({'label':['Yy','Yn','Ny','Nn', \n",
    "                                'y|Y','n|Y','n|N','y|N',\n",
    "                                'Y|y','N|y','N|n','Y|n',\n",
    "                                'Y','N','y','n',\n",
    "                                'Y*','N*','y*','n*',\n",
    "                                'OR_lci90','OR_lci95','OR_lci99', #lower confidence intervals at different alpha\n",
    "                                'OR',                             #DOR\n",
    "                                'OR_uci90','OR_uci95','OR_uci99', #upper confidence interval at different alpha\n",
    "                                '1',\n",
    "                                'ACC','ACC-','F1','F1-'], \n",
    "                       'value':[Yy,  Yn,  Ny,  Nn,   \n",
    "                                0 if Yy+Yn==0 else Yy/(Yy+Yn), \n",
    "                                0 if Yy+Yn==0 else Yn/(Yy+Yn), \n",
    "                                0 if Ny+Nn==0 else Nn/(Ny+Nn), \n",
    "                                0 if Ny+Nn==0 else Ny/(Ny+Nn),\n",
    "                                0 if Yy+Ny==0 else Yy/(Yy+Ny), \n",
    "                                0 if Yy+Ny==0 else Ny/(Yy+Ny), \n",
    "                                0 if Yn+Nn==0 else Nn/(Yn+Nn), \n",
    "                                0 if Yn+Nn==0 else Yn/(Yn+Nn),\n",
    "                                Yy+Yn, Ny+Nn, Yy+Ny, Yn+Nn, \n",
    "                                (Yy+Yn)/(Yy+Yn+Ny+Nn), (Ny+Nn)/(Yy+Yn+Ny+Nn), \n",
    "                                (Yy+Ny)/(Yy+Yn+Ny+Nn), (Yn+Nn)/(Yy+Yn+Ny+Nn),\n",
    "                                odds_ratio_lower_ci(odds_ratio(Yy, Yn, Ny, Nn), Yy, Yn, Ny, Nn, 90), \n",
    "                                odds_ratio_lower_ci(odds_ratio(Yy, Yn, Ny, Nn), Yy, Yn, Ny, Nn, 95), \n",
    "                                odds_ratio_lower_ci(odds_ratio(Yy, Yn, Ny, Nn), Yy, Yn, Ny, Nn, 99), \n",
    "                                odds_ratio(Yy, Yn, Ny, Nn), \n",
    "                                odds_ratio_upper_ci(odds_ratio(Yy, Yn, Ny, Nn), Yy, Yn, Ny, Nn, 90), \n",
    "                                odds_ratio_upper_ci(odds_ratio(Yy, Yn, Ny, Nn), Yy, Yn, Ny, Nn, 95), \n",
    "                                odds_ratio_upper_ci(odds_ratio(Yy, Yn, Ny, Nn), Yy, Yn, Ny, Nn, 99), \n",
    "                                1,\n",
    "                                (Yy+Nn)/(Yy+Yn+Ny+Nn), (Yn+Ny)/(Yy+Yn+Ny+Nn),\n",
    "                                0 if Yy==0 or Yy+Yn==0 or Yy+Ny==0 else 2 * ((Yy/(Yy+Yn)) * (Yy/(Yy+Ny))) / ((Yy/(Yy+Yn)) + (Yy/(Yy+Ny))),\n",
    "                                1 if Yy==0 or Yy+Yn==0 or Yy+Ny==0 else 1 - (2 * ((Yy/(Yy+Yn)) * (Yy/(Yy+Ny))) / ((Yy/(Yy+Yn)) + (Yy/(Yy+Ny))))\n",
    "                               ]})\n",
    "\n",
    "\n",
    "    colours = alt.Scale(domain=['Yy','Ny','Yn','Nn', \n",
    "                                'y|Y','n|Y','n|N','y|N',\n",
    "                                'Y|y','N|y','N|n','Y|n',\n",
    "                                'Y','N','y','n',\n",
    "                                'Y*','N*',\n",
    "                                'y*','n*',\n",
    "                                \n",
    "                                'OR_lci90','OR_lci95','OR_lci99',\n",
    "                                'OR',\n",
    "                                'OR_uci90','OR_uci95','OR_uci99', \n",
    "                                \n",
    "                                '1',\n",
    "                                \n",
    "                                'ACC','ACC-','F1','F1-'], \n",
    "                        range =['snow', 'snow','snow', 'snow',\n",
    "                                'forestgreen','palegreen','powderblue','cadetblue',\n",
    "                                'forestgreen','cadetblue','powderblue','palegreen',\n",
    "                                'goldenrod','gold','goldenrod','gold',\n",
    "                                'goldenrod','gold',\n",
    "                                'goldenrod','gold',\n",
    "                                'dodgerblue','deepskyblue','lightskyblue','blue',\n",
    "                                'dodgerblue','deepskyblue','lightskyblue','darkorange',\n",
    "                                'goldenrod','gold','goldenrod','gold'\n",
    "                               ])\n",
    "    return CM, colours\n"
   ]
  },
  {
   "cell_type": "code",
   "execution_count": 7,
   "metadata": {},
   "outputs": [
    {
     "data": {
      "text/plain": [
       "(       label       value\n",
       " 0         Yy  168.000000\n",
       " 1         Yn   67.000000\n",
       " 2         Ny   71.000000\n",
       " 3         Nn  776.000000\n",
       " 4        y|Y    0.714894\n",
       " 5        n|Y    0.285106\n",
       " 6        n|N    0.916175\n",
       " 7        y|N    0.083825\n",
       " 8        Y|y    0.702929\n",
       " 9        N|y    0.297071\n",
       " 10       N|n    0.920522\n",
       " 11       Y|n    0.079478\n",
       " 12         Y  235.000000\n",
       " 13         N  847.000000\n",
       " 14         y  239.000000\n",
       " 15         n  843.000000\n",
       " 16        Y*    0.217190\n",
       " 17        N*    0.782810\n",
       " 18        y*    0.220887\n",
       " 19        n*    0.779113\n",
       " 20  OR_lci90   20.055298\n",
       " 21  OR_lci95   18.869868\n",
       " 22  OR_lci99   16.768806\n",
       " 23        OR   27.405508\n",
       " 24  OR_uci90   37.449549\n",
       " 25  OR_uci95   39.802178\n",
       " 26  OR_uci99   44.789225\n",
       " 27         1    1.000000\n",
       " 28       ACC    0.872458\n",
       " 29      ACC-    0.127542\n",
       " 30        F1    0.708861\n",
       " 31       F1-    0.291139,\n",
       " Scale({\n",
       "   domain: ['Yy', 'Ny', 'Yn', 'Nn', 'y|Y', 'n|Y', 'n|N', 'y|N', 'Y|y', 'N|y', 'N|n', 'Y|n', 'Y', 'N', 'y', 'n', 'Y*', 'N*', 'y*', 'n*', 'OR_lci90', 'OR_lci95', 'OR_lci99', 'OR', 'OR_uci90', 'OR_uci95', 'OR_uci99', '1', 'ACC', 'ACC-', 'F1', 'F1-'],\n",
       "   range: ['snow', 'snow', 'snow', 'snow', 'forestgreen', 'palegreen', 'powderblue', 'cadetblue', 'forestgreen', 'cadetblue', 'powderblue', 'palegreen', 'goldenrod', 'gold', 'goldenrod', 'gold', 'goldenrod', 'gold', 'goldenrod', 'gold', 'dodgerblue', 'deepskyblue', 'lightskyblue', 'blue', 'dodgerblue', 'deepskyblue', 'lightskyblue', 'darkorange', 'goldenrod', 'gold', 'goldenrod', 'gold']\n",
       " }))"
      ]
     },
     "execution_count": 7,
     "metadata": {},
     "output_type": "execute_result"
    }
   ],
   "source": [
    "confusion_matrix_data(168,67,71,776)"
   ]
  },
  {
   "cell_type": "markdown",
   "metadata": {},
   "source": [
    "## Create confusion matrix chart"
   ]
  },
  {
   "cell_type": "code",
   "execution_count": 69,
   "metadata": {
    "ExecuteTime": {
     "end_time": "2020-04-21T13:23:33.422049Z",
     "start_time": "2020-04-21T13:23:33.397148Z"
    }
   },
   "outputs": [],
   "source": [
    "def cf_v_bar(CM, colours, label_list, sort_order, w_factor, h_factor, sf):\n",
    "    bar = alt.Chart(CM.loc[CM['label'].isin(label_list)]).mark_bar(size=w_factor*sf).encode(\n",
    "        y=alt.Y('sum(value)', stack='normalize', title=None, axis=None),\n",
    "        color=alt.Color('label', scale = colours, legend=None),\n",
    "        order=alt.Order('label', sort=sort_order),\n",
    "        tooltip=['value']\n",
    "    ).properties(width=w_factor*sf, height=h_factor*sf) \n",
    "    \n",
    "    return bar\n",
    "\n",
    "def cf_h_bar(CM, colours, label_list, sort_order, w_factor, h_factor, sf):\n",
    "    bar = alt.Chart(CM.loc[CM['label'].isin(label_list)]).mark_bar(size=h_factor*sf).encode(\n",
    "        x=alt.X('sum(value)', stack='normalize', title=None, axis=None),\n",
    "        color=alt.Color('label', scale = colours, legend=None),\n",
    "        order=alt.Order('label', sort=sort_order),\n",
    "        tooltip=['value']\n",
    "    ).properties(width=w_factor*sf, height=h_factor*sf) \n",
    "    \n",
    "    return bar\n",
    "\n",
    "\n",
    "def cf_text(CM, label, format, font_size, w_factor, dy_factor, sf):\n",
    "    text = alt.Chart(CM.loc[CM['label']==label]).mark_text(fontSize=font_size, color='black').encode(\n",
    "        text=alt.Text('sum(value)', format=format)\n",
    "    ).properties(width=w_factor*sf, height=w_factor*sf) \n",
    "\n",
    "    return text\n",
    "\n",
    "\n",
    "def confusion_matrix_chart(Yy, Yn, Ny, Nn):\n",
    "    \n",
    "    # Define the scaling factor\n",
    "    sf = 15\n",
    "    \n",
    "    \n",
    "    # Compute the relevant data \n",
    "    CM, colours = confusion_matrix_data(Yy, Yn, Ny, Nn)\n",
    "    \n",
    "    \n",
    "    # FIRST ROW\n",
    "\n",
    "    text_Yy = cf_text(CM, label='Yy', format='.0f', font_size=36, \n",
    "                      w_factor=10, dy_factor=5, sf=sf)\n",
    "\n",
    "    bar_Y = cf_v_bar(CM, colours,\n",
    "                     label_list=['n|Y','y|Y'], sort_order='descending', \n",
    "                     w_factor=2, h_factor=10, sf=sf)\n",
    "    \n",
    "    text_Yn = cf_text(CM, label='Yn', format='.0f', font_size=36, \n",
    "                      w_factor=10, dy_factor=5, sf=sf)\n",
    "\n",
    "    # SECOND ROW \n",
    "    \n",
    "    bar_y = cf_h_bar(CM, colours,\n",
    "                     label_list=['Y|y','N|y'], sort_order='ascending', \n",
    "                     w_factor=13, h_factor=2, sf=sf)\n",
    "    \n",
    "    bar_a = cf_v_bar(CM, colours,\n",
    "                     label_list=['ACC','ACC-'], sort_order='descending', \n",
    "                     w_factor=3, h_factor=2, sf=sf)\n",
    "    \n",
    "    bar_n = cf_h_bar(CM, colours,\n",
    "                     label_list=['N|n','Y|n'], sort_order='ascending', \n",
    "                     w_factor=13, h_factor=2, sf=sf)\n",
    "    \n",
    "    # THIRD ROW\n",
    "    \n",
    "    text_Ny = cf_text(CM, label='Ny', format='.0f', font_size=36, \n",
    "                      w_factor=10, dy_factor=5, sf=sf)\n",
    "\n",
    "    bar_N = cf_v_bar(CM, colours,\n",
    "                     label_list=['n|N','y|N'], sort_order='ascending', \n",
    "                     w_factor=2, h_factor=10, sf=sf)\n",
    "    \n",
    "    text_Nn = cf_text(CM, label='Nn', format='.0f', font_size=36, \n",
    "                      w_factor=10, dy_factor=5, sf=sf)\n",
    "\n",
    "    \n",
    "    # FRAMING BARS\n",
    "    \n",
    "    # Left bar\n",
    "    bar_L = cf_v_bar(CM, colours,\n",
    "                     label_list=['Y*','N*'], sort_order='ascending', \n",
    "                     w_factor=2, h_factor=25, sf=sf)\n",
    "    \n",
    "    # Top left corner bar\n",
    "    bar_0 = cf_v_bar(CM, colours,\n",
    "                     label_list=['F1','F1-'], sort_order='ascending', \n",
    "                     w_factor=2, h_factor=2, sf=sf)\n",
    "    \n",
    "    # Top bar\n",
    "    bar_T = cf_h_bar(CM, colours,\n",
    "                     label_list=['y*','n*'], sort_order='descending', \n",
    "                     w_factor=25, h_factor=2, sf=sf)\n",
    "    \n",
    "    # Top right corner text\n",
    "    text_R = cf_text(CM, label='OR', format='.1f', font_size=12, w_factor=2, dy_factor=1, sf=sf)\n",
    "\n",
    "    # Right bar\n",
    "    bar_R = alt.Chart(CM.loc[\n",
    "        CM['label'].isin(['1','OR_lci90','OR_lci95','OR_lci99','OR','OR_uci90','OR_uci95','OR_uci99'])]\n",
    "                     ).mark_circle(opacity=0.8, stroke='black', strokeWidth=1, size=10*sf).encode(\n",
    "        y=alt.Y('value', title=None, axis=None),\n",
    "        color=alt.Color('label', scale = colours, legend=None),\n",
    "        order=alt.Order('label', sort='descending'),\n",
    "        tooltip=['value']\n",
    "    ).properties(width=2*sf, height=33*sf) \n",
    "\n",
    "\n",
    "    # BUILD COMBINED CHART\n",
    "    \n",
    "    return (bar_0 | bar_T | text_R) & (bar_L | ( ( (text_Yy) | bar_Y | text_Yn) & (bar_y | bar_a | bar_n) & (text_Ny | bar_N | text_Nn) ) \n",
    "     | bar_R )\n",
    "\n"
   ]
  },
  {
   "cell_type": "markdown",
   "metadata": {},
   "source": [
    "## Instantiate the confusion matrix chart"
   ]
  },
  {
   "cell_type": "code",
   "execution_count": 70,
   "metadata": {
    "ExecuteTime": {
     "end_time": "2020-04-21T13:23:33.643798Z",
     "start_time": "2020-04-21T13:23:33.424012Z"
    }
   },
   "outputs": [
    {
     "data": {
      "text/html": [
       "\n",
       "<div id=\"altair-viz-6a2a3df2cc5948dbb5e571c90ad55de5\"></div>\n",
       "<script type=\"text/javascript\">\n",
       "  var VEGA_DEBUG = (typeof VEGA_DEBUG == \"undefined\") ? {} : VEGA_DEBUG;\n",
       "  (function(spec, embedOpt){\n",
       "    let outputDiv = document.currentScript.previousElementSibling;\n",
       "    if (outputDiv.id !== \"altair-viz-6a2a3df2cc5948dbb5e571c90ad55de5\") {\n",
       "      outputDiv = document.getElementById(\"altair-viz-6a2a3df2cc5948dbb5e571c90ad55de5\");\n",
       "    }\n",
       "    const paths = {\n",
       "      \"vega\": \"https://cdn.jsdelivr.net/npm//vega@5?noext\",\n",
       "      \"vega-lib\": \"https://cdn.jsdelivr.net/npm//vega-lib?noext\",\n",
       "      \"vega-lite\": \"https://cdn.jsdelivr.net/npm//vega-lite@4.17.0?noext\",\n",
       "      \"vega-embed\": \"https://cdn.jsdelivr.net/npm//vega-embed@6?noext\",\n",
       "    };\n",
       "\n",
       "    function maybeLoadScript(lib, version) {\n",
       "      var key = `${lib.replace(\"-\", \"\")}_version`;\n",
       "      return (VEGA_DEBUG[key] == version) ?\n",
       "        Promise.resolve(paths[lib]) :\n",
       "        new Promise(function(resolve, reject) {\n",
       "          var s = document.createElement('script');\n",
       "          document.getElementsByTagName(\"head\")[0].appendChild(s);\n",
       "          s.async = true;\n",
       "          s.onload = () => {\n",
       "            VEGA_DEBUG[key] = version;\n",
       "            return resolve(paths[lib]);\n",
       "          };\n",
       "          s.onerror = () => reject(`Error loading script: ${paths[lib]}`);\n",
       "          s.src = paths[lib];\n",
       "        });\n",
       "    }\n",
       "\n",
       "    function showError(err) {\n",
       "      outputDiv.innerHTML = `<div class=\"error\" style=\"color:red;\">${err}</div>`;\n",
       "      throw err;\n",
       "    }\n",
       "\n",
       "    function displayChart(vegaEmbed) {\n",
       "      vegaEmbed(outputDiv, spec, embedOpt)\n",
       "        .catch(err => showError(`Javascript Error: ${err.message}<br>This usually means there's a typo in your chart specification. See the javascript console for the full traceback.`));\n",
       "    }\n",
       "\n",
       "    if(typeof define === \"function\" && define.amd) {\n",
       "      requirejs.config({paths});\n",
       "      require([\"vega-embed\"], displayChart, err => showError(`Error loading script: ${err.message}`));\n",
       "    } else {\n",
       "      maybeLoadScript(\"vega\", \"5\")\n",
       "        .then(() => maybeLoadScript(\"vega-lite\", \"4.17.0\"))\n",
       "        .then(() => maybeLoadScript(\"vega-embed\", \"6\"))\n",
       "        .catch(showError)\n",
       "        .then(() => displayChart(vegaEmbed));\n",
       "    }\n",
       "  })({\"config\": {\"view\": {\"continuousWidth\": 400, \"continuousHeight\": 300}}, \"vconcat\": [{\"hconcat\": [{\"data\": {\"name\": \"data-a2c0b2096f6a010226bbf5385b3e485e\"}, \"mark\": {\"type\": \"bar\", \"size\": 30}, \"encoding\": {\"color\": {\"field\": \"label\", \"legend\": null, \"scale\": {\"domain\": [\"Yy\", \"Ny\", \"Yn\", \"Nn\", \"y|Y\", \"n|Y\", \"n|N\", \"y|N\", \"Y|y\", \"N|y\", \"N|n\", \"Y|n\", \"Y\", \"N\", \"y\", \"n\", \"Y*\", \"N*\", \"y*\", \"n*\", \"OR_lci90\", \"OR_lci95\", \"OR_lci99\", \"OR\", \"OR_uci90\", \"OR_uci95\", \"OR_uci99\", \"1\", \"ACC\", \"ACC-\", \"F1\", \"F1-\"], \"range\": [\"snow\", \"snow\", \"snow\", \"snow\", \"forestgreen\", \"palegreen\", \"powderblue\", \"cadetblue\", \"forestgreen\", \"cadetblue\", \"powderblue\", \"palegreen\", \"goldenrod\", \"gold\", \"goldenrod\", \"gold\", \"goldenrod\", \"gold\", \"goldenrod\", \"gold\", \"dodgerblue\", \"deepskyblue\", \"lightskyblue\", \"blue\", \"dodgerblue\", \"deepskyblue\", \"lightskyblue\", \"darkorange\", \"goldenrod\", \"gold\", \"goldenrod\", \"gold\"]}, \"type\": \"nominal\"}, \"order\": {\"field\": \"label\", \"sort\": \"ascending\", \"type\": \"nominal\"}, \"tooltip\": [{\"field\": \"value\", \"type\": \"quantitative\"}], \"y\": {\"aggregate\": \"sum\", \"axis\": null, \"field\": \"value\", \"stack\": \"normalize\", \"title\": null, \"type\": \"quantitative\"}}, \"height\": 30, \"width\": 30}, {\"data\": {\"name\": \"data-2a0310f19e6d4b21570b5cca22ac9095\"}, \"mark\": {\"type\": \"bar\", \"size\": 30}, \"encoding\": {\"color\": {\"field\": \"label\", \"legend\": null, \"scale\": {\"domain\": [\"Yy\", \"Ny\", \"Yn\", \"Nn\", \"y|Y\", \"n|Y\", \"n|N\", \"y|N\", \"Y|y\", \"N|y\", \"N|n\", \"Y|n\", \"Y\", \"N\", \"y\", \"n\", \"Y*\", \"N*\", \"y*\", \"n*\", \"OR_lci90\", \"OR_lci95\", \"OR_lci99\", \"OR\", \"OR_uci90\", \"OR_uci95\", \"OR_uci99\", \"1\", \"ACC\", \"ACC-\", \"F1\", \"F1-\"], \"range\": [\"snow\", \"snow\", \"snow\", \"snow\", \"forestgreen\", \"palegreen\", \"powderblue\", \"cadetblue\", \"forestgreen\", \"cadetblue\", \"powderblue\", \"palegreen\", \"goldenrod\", \"gold\", \"goldenrod\", \"gold\", \"goldenrod\", \"gold\", \"goldenrod\", \"gold\", \"dodgerblue\", \"deepskyblue\", \"lightskyblue\", \"blue\", \"dodgerblue\", \"deepskyblue\", \"lightskyblue\", \"darkorange\", \"goldenrod\", \"gold\", \"goldenrod\", \"gold\"]}, \"type\": \"nominal\"}, \"order\": {\"field\": \"label\", \"sort\": \"descending\", \"type\": \"nominal\"}, \"tooltip\": [{\"field\": \"value\", \"type\": \"quantitative\"}], \"x\": {\"aggregate\": \"sum\", \"axis\": null, \"field\": \"value\", \"stack\": \"normalize\", \"title\": null, \"type\": \"quantitative\"}}, \"height\": 30, \"width\": 375}, {\"data\": {\"name\": \"data-f4daded0001ff4f7750ec6484ffa5099\"}, \"mark\": {\"type\": \"text\", \"color\": \"black\", \"fontSize\": 12}, \"encoding\": {\"text\": {\"aggregate\": \"sum\", \"field\": \"value\", \"format\": \".1f\", \"type\": \"quantitative\"}}, \"height\": 30, \"width\": 30}]}, {\"hconcat\": [{\"data\": {\"name\": \"data-3affb11a2fe2531e1b22e54761ef25be\"}, \"mark\": {\"type\": \"bar\", \"size\": 30}, \"encoding\": {\"color\": {\"field\": \"label\", \"legend\": null, \"scale\": {\"domain\": [\"Yy\", \"Ny\", \"Yn\", \"Nn\", \"y|Y\", \"n|Y\", \"n|N\", \"y|N\", \"Y|y\", \"N|y\", \"N|n\", \"Y|n\", \"Y\", \"N\", \"y\", \"n\", \"Y*\", \"N*\", \"y*\", \"n*\", \"OR_lci90\", \"OR_lci95\", \"OR_lci99\", \"OR\", \"OR_uci90\", \"OR_uci95\", \"OR_uci99\", \"1\", \"ACC\", \"ACC-\", \"F1\", \"F1-\"], \"range\": [\"snow\", \"snow\", \"snow\", \"snow\", \"forestgreen\", \"palegreen\", \"powderblue\", \"cadetblue\", \"forestgreen\", \"cadetblue\", \"powderblue\", \"palegreen\", \"goldenrod\", \"gold\", \"goldenrod\", \"gold\", \"goldenrod\", \"gold\", \"goldenrod\", \"gold\", \"dodgerblue\", \"deepskyblue\", \"lightskyblue\", \"blue\", \"dodgerblue\", \"deepskyblue\", \"lightskyblue\", \"darkorange\", \"goldenrod\", \"gold\", \"goldenrod\", \"gold\"]}, \"type\": \"nominal\"}, \"order\": {\"field\": \"label\", \"sort\": \"ascending\", \"type\": \"nominal\"}, \"tooltip\": [{\"field\": \"value\", \"type\": \"quantitative\"}], \"y\": {\"aggregate\": \"sum\", \"axis\": null, \"field\": \"value\", \"stack\": \"normalize\", \"title\": null, \"type\": \"quantitative\"}}, \"height\": 375, \"width\": 30}, {\"vconcat\": [{\"hconcat\": [{\"data\": {\"name\": \"data-a8a2bf7701eda0414fc701667c7fb7fe\"}, \"mark\": {\"type\": \"text\", \"color\": \"black\", \"fontSize\": 36}, \"encoding\": {\"text\": {\"aggregate\": \"sum\", \"field\": \"value\", \"format\": \".0f\", \"type\": \"quantitative\"}}, \"height\": 150, \"width\": 150}, {\"data\": {\"name\": \"data-d0093d07d174540c0f476bcefc194991\"}, \"mark\": {\"type\": \"bar\", \"size\": 30}, \"encoding\": {\"color\": {\"field\": \"label\", \"legend\": null, \"scale\": {\"domain\": [\"Yy\", \"Ny\", \"Yn\", \"Nn\", \"y|Y\", \"n|Y\", \"n|N\", \"y|N\", \"Y|y\", \"N|y\", \"N|n\", \"Y|n\", \"Y\", \"N\", \"y\", \"n\", \"Y*\", \"N*\", \"y*\", \"n*\", \"OR_lci90\", \"OR_lci95\", \"OR_lci99\", \"OR\", \"OR_uci90\", \"OR_uci95\", \"OR_uci99\", \"1\", \"ACC\", \"ACC-\", \"F1\", \"F1-\"], \"range\": [\"snow\", \"snow\", \"snow\", \"snow\", \"forestgreen\", \"palegreen\", \"powderblue\", \"cadetblue\", \"forestgreen\", \"cadetblue\", \"powderblue\", \"palegreen\", \"goldenrod\", \"gold\", \"goldenrod\", \"gold\", \"goldenrod\", \"gold\", \"goldenrod\", \"gold\", \"dodgerblue\", \"deepskyblue\", \"lightskyblue\", \"blue\", \"dodgerblue\", \"deepskyblue\", \"lightskyblue\", \"darkorange\", \"goldenrod\", \"gold\", \"goldenrod\", \"gold\"]}, \"type\": \"nominal\"}, \"order\": {\"field\": \"label\", \"sort\": \"descending\", \"type\": \"nominal\"}, \"tooltip\": [{\"field\": \"value\", \"type\": \"quantitative\"}], \"y\": {\"aggregate\": \"sum\", \"axis\": null, \"field\": \"value\", \"stack\": \"normalize\", \"title\": null, \"type\": \"quantitative\"}}, \"height\": 150, \"width\": 30}, {\"data\": {\"name\": \"data-5331570135ec91ac4cd376c12a1b12c1\"}, \"mark\": {\"type\": \"text\", \"color\": \"black\", \"fontSize\": 36}, \"encoding\": {\"text\": {\"aggregate\": \"sum\", \"field\": \"value\", \"format\": \".0f\", \"type\": \"quantitative\"}}, \"height\": 150, \"width\": 150}]}, {\"hconcat\": [{\"data\": {\"name\": \"data-e169841d238b73c29f9a059ba891a456\"}, \"mark\": {\"type\": \"bar\", \"size\": 30}, \"encoding\": {\"color\": {\"field\": \"label\", \"legend\": null, \"scale\": {\"domain\": [\"Yy\", \"Ny\", \"Yn\", \"Nn\", \"y|Y\", \"n|Y\", \"n|N\", \"y|N\", \"Y|y\", \"N|y\", \"N|n\", \"Y|n\", \"Y\", \"N\", \"y\", \"n\", \"Y*\", \"N*\", \"y*\", \"n*\", \"OR_lci90\", \"OR_lci95\", \"OR_lci99\", \"OR\", \"OR_uci90\", \"OR_uci95\", \"OR_uci99\", \"1\", \"ACC\", \"ACC-\", \"F1\", \"F1-\"], \"range\": [\"snow\", \"snow\", \"snow\", \"snow\", \"forestgreen\", \"palegreen\", \"powderblue\", \"cadetblue\", \"forestgreen\", \"cadetblue\", \"powderblue\", \"palegreen\", \"goldenrod\", \"gold\", \"goldenrod\", \"gold\", \"goldenrod\", \"gold\", \"goldenrod\", \"gold\", \"dodgerblue\", \"deepskyblue\", \"lightskyblue\", \"blue\", \"dodgerblue\", \"deepskyblue\", \"lightskyblue\", \"darkorange\", \"goldenrod\", \"gold\", \"goldenrod\", \"gold\"]}, \"type\": \"nominal\"}, \"order\": {\"field\": \"label\", \"sort\": \"ascending\", \"type\": \"nominal\"}, \"tooltip\": [{\"field\": \"value\", \"type\": \"quantitative\"}], \"x\": {\"aggregate\": \"sum\", \"axis\": null, \"field\": \"value\", \"stack\": \"normalize\", \"title\": null, \"type\": \"quantitative\"}}, \"height\": 30, \"width\": 195}, {\"data\": {\"name\": \"data-76b9ddd88fc65b067cf2a5edb40bf799\"}, \"mark\": {\"type\": \"bar\", \"size\": 45}, \"encoding\": {\"color\": {\"field\": \"label\", \"legend\": null, \"scale\": {\"domain\": [\"Yy\", \"Ny\", \"Yn\", \"Nn\", \"y|Y\", \"n|Y\", \"n|N\", \"y|N\", \"Y|y\", \"N|y\", \"N|n\", \"Y|n\", \"Y\", \"N\", \"y\", \"n\", \"Y*\", \"N*\", \"y*\", \"n*\", \"OR_lci90\", \"OR_lci95\", \"OR_lci99\", \"OR\", \"OR_uci90\", \"OR_uci95\", \"OR_uci99\", \"1\", \"ACC\", \"ACC-\", \"F1\", \"F1-\"], \"range\": [\"snow\", \"snow\", \"snow\", \"snow\", \"forestgreen\", \"palegreen\", \"powderblue\", \"cadetblue\", \"forestgreen\", \"cadetblue\", \"powderblue\", \"palegreen\", \"goldenrod\", \"gold\", \"goldenrod\", \"gold\", \"goldenrod\", \"gold\", \"goldenrod\", \"gold\", \"dodgerblue\", \"deepskyblue\", \"lightskyblue\", \"blue\", \"dodgerblue\", \"deepskyblue\", \"lightskyblue\", \"darkorange\", \"goldenrod\", \"gold\", \"goldenrod\", \"gold\"]}, \"type\": \"nominal\"}, \"order\": {\"field\": \"label\", \"sort\": \"descending\", \"type\": \"nominal\"}, \"tooltip\": [{\"field\": \"value\", \"type\": \"quantitative\"}], \"y\": {\"aggregate\": \"sum\", \"axis\": null, \"field\": \"value\", \"stack\": \"normalize\", \"title\": null, \"type\": \"quantitative\"}}, \"height\": 30, \"width\": 45}, {\"data\": {\"name\": \"data-ed6972f3f704194fb3bdf138ac95be86\"}, \"mark\": {\"type\": \"bar\", \"size\": 30}, \"encoding\": {\"color\": {\"field\": \"label\", \"legend\": null, \"scale\": {\"domain\": [\"Yy\", \"Ny\", \"Yn\", \"Nn\", \"y|Y\", \"n|Y\", \"n|N\", \"y|N\", \"Y|y\", \"N|y\", \"N|n\", \"Y|n\", \"Y\", \"N\", \"y\", \"n\", \"Y*\", \"N*\", \"y*\", \"n*\", \"OR_lci90\", \"OR_lci95\", \"OR_lci99\", \"OR\", \"OR_uci90\", \"OR_uci95\", \"OR_uci99\", \"1\", \"ACC\", \"ACC-\", \"F1\", \"F1-\"], \"range\": [\"snow\", \"snow\", \"snow\", \"snow\", \"forestgreen\", \"palegreen\", \"powderblue\", \"cadetblue\", \"forestgreen\", \"cadetblue\", \"powderblue\", \"palegreen\", \"goldenrod\", \"gold\", \"goldenrod\", \"gold\", \"goldenrod\", \"gold\", \"goldenrod\", \"gold\", \"dodgerblue\", \"deepskyblue\", \"lightskyblue\", \"blue\", \"dodgerblue\", \"deepskyblue\", \"lightskyblue\", \"darkorange\", \"goldenrod\", \"gold\", \"goldenrod\", \"gold\"]}, \"type\": \"nominal\"}, \"order\": {\"field\": \"label\", \"sort\": \"ascending\", \"type\": \"nominal\"}, \"tooltip\": [{\"field\": \"value\", \"type\": \"quantitative\"}], \"x\": {\"aggregate\": \"sum\", \"axis\": null, \"field\": \"value\", \"stack\": \"normalize\", \"title\": null, \"type\": \"quantitative\"}}, \"height\": 30, \"width\": 195}]}, {\"hconcat\": [{\"data\": {\"name\": \"data-856292d82380e5f1ec0d1458fdf42a1d\"}, \"mark\": {\"type\": \"text\", \"color\": \"black\", \"fontSize\": 36}, \"encoding\": {\"text\": {\"aggregate\": \"sum\", \"field\": \"value\", \"format\": \".0f\", \"type\": \"quantitative\"}}, \"height\": 150, \"width\": 150}, {\"data\": {\"name\": \"data-5adc5b1268bf7f3619402bb5fddafc55\"}, \"mark\": {\"type\": \"bar\", \"size\": 30}, \"encoding\": {\"color\": {\"field\": \"label\", \"legend\": null, \"scale\": {\"domain\": [\"Yy\", \"Ny\", \"Yn\", \"Nn\", \"y|Y\", \"n|Y\", \"n|N\", \"y|N\", \"Y|y\", \"N|y\", \"N|n\", \"Y|n\", \"Y\", \"N\", \"y\", \"n\", \"Y*\", \"N*\", \"y*\", \"n*\", \"OR_lci90\", \"OR_lci95\", \"OR_lci99\", \"OR\", \"OR_uci90\", \"OR_uci95\", \"OR_uci99\", \"1\", \"ACC\", \"ACC-\", \"F1\", \"F1-\"], \"range\": [\"snow\", \"snow\", \"snow\", \"snow\", \"forestgreen\", \"palegreen\", \"powderblue\", \"cadetblue\", \"forestgreen\", \"cadetblue\", \"powderblue\", \"palegreen\", \"goldenrod\", \"gold\", \"goldenrod\", \"gold\", \"goldenrod\", \"gold\", \"goldenrod\", \"gold\", \"dodgerblue\", \"deepskyblue\", \"lightskyblue\", \"blue\", \"dodgerblue\", \"deepskyblue\", \"lightskyblue\", \"darkorange\", \"goldenrod\", \"gold\", \"goldenrod\", \"gold\"]}, \"type\": \"nominal\"}, \"order\": {\"field\": \"label\", \"sort\": \"ascending\", \"type\": \"nominal\"}, \"tooltip\": [{\"field\": \"value\", \"type\": \"quantitative\"}], \"y\": {\"aggregate\": \"sum\", \"axis\": null, \"field\": \"value\", \"stack\": \"normalize\", \"title\": null, \"type\": \"quantitative\"}}, \"height\": 150, \"width\": 30}, {\"data\": {\"name\": \"data-0ef7cca9796a3aa0e4c29b5846d44477\"}, \"mark\": {\"type\": \"text\", \"color\": \"black\", \"fontSize\": 36}, \"encoding\": {\"text\": {\"aggregate\": \"sum\", \"field\": \"value\", \"format\": \".0f\", \"type\": \"quantitative\"}}, \"height\": 150, \"width\": 150}]}]}, {\"data\": {\"name\": \"data-2e956e8810495bda043b08cd24045d8b\"}, \"mark\": {\"type\": \"circle\", \"opacity\": 0.8, \"size\": 150, \"stroke\": \"black\", \"strokeWidth\": 1}, \"encoding\": {\"color\": {\"field\": \"label\", \"legend\": null, \"scale\": {\"domain\": [\"Yy\", \"Ny\", \"Yn\", \"Nn\", \"y|Y\", \"n|Y\", \"n|N\", \"y|N\", \"Y|y\", \"N|y\", \"N|n\", \"Y|n\", \"Y\", \"N\", \"y\", \"n\", \"Y*\", \"N*\", \"y*\", \"n*\", \"OR_lci90\", \"OR_lci95\", \"OR_lci99\", \"OR\", \"OR_uci90\", \"OR_uci95\", \"OR_uci99\", \"1\", \"ACC\", \"ACC-\", \"F1\", \"F1-\"], \"range\": [\"snow\", \"snow\", \"snow\", \"snow\", \"forestgreen\", \"palegreen\", \"powderblue\", \"cadetblue\", \"forestgreen\", \"cadetblue\", \"powderblue\", \"palegreen\", \"goldenrod\", \"gold\", \"goldenrod\", \"gold\", \"goldenrod\", \"gold\", \"goldenrod\", \"gold\", \"dodgerblue\", \"deepskyblue\", \"lightskyblue\", \"blue\", \"dodgerblue\", \"deepskyblue\", \"lightskyblue\", \"darkorange\", \"goldenrod\", \"gold\", \"goldenrod\", \"gold\"]}, \"type\": \"nominal\"}, \"order\": {\"field\": \"label\", \"sort\": \"descending\", \"type\": \"nominal\"}, \"tooltip\": [{\"field\": \"value\", \"type\": \"quantitative\"}], \"y\": {\"axis\": null, \"field\": \"value\", \"title\": null, \"type\": \"quantitative\"}}, \"height\": 495, \"width\": 30}]}], \"$schema\": \"https://vega.github.io/schema/vega-lite/v4.17.0.json\", \"datasets\": {\"data-a2c0b2096f6a010226bbf5385b3e485e\": [{\"label\": \"F1\", \"value\": 0.7088607594936708}, {\"label\": \"F1-\", \"value\": 0.2911392405063292}], \"data-2a0310f19e6d4b21570b5cca22ac9095\": [{\"label\": \"y*\", \"value\": 0.2208872458410351}, {\"label\": \"n*\", \"value\": 0.7791127541589649}], \"data-f4daded0001ff4f7750ec6484ffa5099\": [{\"label\": \"OR\", \"value\": 27.40550767290309}], \"data-3affb11a2fe2531e1b22e54761ef25be\": [{\"label\": \"Y*\", \"value\": 0.21719038817005545}, {\"label\": \"N*\", \"value\": 0.7828096118299446}], \"data-a8a2bf7701eda0414fc701667c7fb7fe\": [{\"label\": \"Yy\", \"value\": 168.0}], \"data-d0093d07d174540c0f476bcefc194991\": [{\"label\": \"y|Y\", \"value\": 0.7148936170212766}, {\"label\": \"n|Y\", \"value\": 0.2851063829787234}], \"data-5331570135ec91ac4cd376c12a1b12c1\": [{\"label\": \"Yn\", \"value\": 67.0}], \"data-e169841d238b73c29f9a059ba891a456\": [{\"label\": \"Y|y\", \"value\": 0.702928870292887}, {\"label\": \"N|y\", \"value\": 0.29707112970711297}], \"data-76b9ddd88fc65b067cf2a5edb40bf799\": [{\"label\": \"ACC\", \"value\": 0.8724584103512015}, {\"label\": \"ACC-\", \"value\": 0.12754158964879853}], \"data-ed6972f3f704194fb3bdf138ac95be86\": [{\"label\": \"N|n\", \"value\": 0.9205219454329775}, {\"label\": \"Y|n\", \"value\": 0.07947805456702253}], \"data-856292d82380e5f1ec0d1458fdf42a1d\": [{\"label\": \"Ny\", \"value\": 71.0}], \"data-5adc5b1268bf7f3619402bb5fddafc55\": [{\"label\": \"n|N\", \"value\": 0.9161747343565525}, {\"label\": \"y|N\", \"value\": 0.08382526564344746}], \"data-0ef7cca9796a3aa0e4c29b5846d44477\": [{\"label\": \"Nn\", \"value\": 776.0}], \"data-2e956e8810495bda043b08cd24045d8b\": [{\"label\": \"OR_lci90\", \"value\": 20.055297625222465}, {\"label\": \"OR_lci95\", \"value\": 18.869868314873518}, {\"label\": \"OR_lci99\", \"value\": 16.768806394115902}, {\"label\": \"OR\", \"value\": 27.40550767290309}, {\"label\": \"OR_uci90\", \"value\": 37.449548984253425}, {\"label\": \"OR_uci95\", \"value\": 39.80217764516946}, {\"label\": \"OR_uci99\", \"value\": 44.78922549151108}, {\"label\": \"1\", \"value\": 1.0}]}}, {\"mode\": \"vega-lite\"});\n",
       "</script>"
      ],
      "text/plain": [
       "alt.VConcatChart(...)"
      ]
     },
     "execution_count": 70,
     "metadata": {},
     "output_type": "execute_result"
    }
   ],
   "source": [
    "#TP        FN        FP        TN\n",
    "Yy = 168 ; Yn = 67 ; Ny = 71 ; Nn = 776\n",
    "\n",
    "confusion_matrix_chart(Yy, Yn, Ny, Nn)"
   ]
  },
  {
   "cell_type": "markdown",
   "metadata": {},
   "source": [
    "Poi se arrivo effettivamente a fare il tool con i vari widget può diventare tutto più interattivo anche nella lettura delle metriche (cioè non solo con la label posizionando il cursore ma evidenziando e cose così)"
   ]
  }
 ],
 "metadata": {
  "kernelspec": {
   "display_name": "Python 3",
   "language": "python",
   "name": "python3"
  },
  "language_info": {
   "codemirror_mode": {
    "name": "ipython",
    "version": 3
   },
   "file_extension": ".py",
   "mimetype": "text/x-python",
   "name": "python",
   "nbconvert_exporter": "python",
   "pygments_lexer": "ipython3",
   "version": "3.9.5"
  },
  "toc": {
   "base_numbering": 1,
   "nav_menu": {},
   "number_sections": true,
   "sideBar": true,
   "skip_h1_title": false,
   "title_cell": "Table of Contents",
   "title_sidebar": "Contents",
   "toc_cell": false,
   "toc_position": {},
   "toc_section_display": true,
   "toc_window_display": false
  },
  "varInspector": {
   "cols": {
    "lenName": 16,
    "lenType": 16,
    "lenVar": 40
   },
   "kernels_config": {
    "python": {
     "delete_cmd_postfix": "",
     "delete_cmd_prefix": "del ",
     "library": "var_list.py",
     "varRefreshCmd": "print(var_dic_list())"
    },
    "r": {
     "delete_cmd_postfix": ") ",
     "delete_cmd_prefix": "rm(",
     "library": "var_list.r",
     "varRefreshCmd": "cat(var_dic_list()) "
    }
   },
   "types_to_exclude": [
    "module",
    "function",
    "builtin_function_or_method",
    "instance",
    "_Feature"
   ],
   "window_display": false
  }
 },
 "nbformat": 4,
 "nbformat_minor": 2
}
